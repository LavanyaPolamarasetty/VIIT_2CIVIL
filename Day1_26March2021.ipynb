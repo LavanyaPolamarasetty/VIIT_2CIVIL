{
 "cells": [
  {
   "cell_type": "markdown",
   "metadata": {},
   "source": [
    "### in command mode\n",
    "- a - Create new cell at above \n",
    "- b - create new cell at below\n",
    "- x - del current cell\n",
    "- h - displays shortcuts\n",
    "- For code run - shift+enter, ctrl+enter, alt+enter\n",
    "- esc+m - cell into markdown\n",
    "- esc+y - code\n",
    "- esc+r - raw NB convert\n",
    "\n",
    "- difference b/w Google DOCS & Notepad - \n",
    "    - DOCS - insert images, headings, points, size, cover page -- Markdown\n",
    "    - Notepad - same font, size  - Raw NB convert"
   ]
  },
  {
   "cell_type": "code",
   "execution_count": 1,
   "metadata": {},
   "outputs": [
    {
     "data": {
      "text/plain": [
       "12345"
      ]
     },
     "execution_count": 1,
     "metadata": {},
     "output_type": "execute_result"
    }
   ],
   "source": [
    "12345"
   ]
  },
  {
   "cell_type": "code",
   "execution_count": 2,
   "metadata": {},
   "outputs": [
    {
     "data": {
      "text/plain": [
       "1234"
      ]
     },
     "execution_count": 2,
     "metadata": {},
     "output_type": "execute_result"
    }
   ],
   "source": [
    "1234"
   ]
  },
  {
   "cell_type": "code",
   "execution_count": 3,
   "metadata": {},
   "outputs": [
    {
     "data": {
      "text/plain": [
       "23456"
      ]
     },
     "execution_count": 3,
     "metadata": {},
     "output_type": "execute_result"
    }
   ],
   "source": [
    "23456"
   ]
  },
  {
   "cell_type": "raw",
   "metadata": {},
   "source": [
    "nbdfjghjdf\n",
    "dfjhgjdf\n",
    "jkdfhgjkdf\n",
    "#fhddj\n",
    "1243\n",
    "skfhdsk\n",
    "785678\n",
    "fhdfkg854967\n",
    "# djfhgdk\n"
   ]
  },
  {
   "cell_type": "markdown",
   "metadata": {},
   "source": [
    "# Markdown Mode\n",
    "# Title\n",
    "## Title\n",
    "### Title\n",
    "#### title\n",
    "###### Title\n",
    "\n",
    "- point1\n",
    "- Point2 \n",
    "* Point3\n",
    "* Points\n",
    "    * Points\n",
    "    - point1\n",
    "    - Point2 \n",
    "    * Point3\n",
    "    * Points\n",
    "        * Points\n",
    "        - point1\n",
    "        - Point2 \n",
    "        * Point3\n",
    "        * Points\n",
    "        \n",
    "i am in **Bold** style <br>\n",
    "i'm in *Italic* style <br>\n",
    "i'm in ***Bold+Italic*** style\n",
    "\n",
    "hi guys, welcome to ```APSSDC```\n",
    "\n",
    "- Insert tables\n",
    "\n",
    "col1 | col2 | col3\n",
    "-|-|-\n",
    "r1 | r2 | r3\n",
    "r4 | r5 | r6\n",
    "\n",
    "- Inserting Link\n",
    "\n",
    "[Python Official Website](https://www.python.org/)\n",
    "\n",
    "- Insert Image\n",
    "\n",
    "![](data:image/jpeg;base64,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)"
   ]
  },
  {
   "cell_type": "markdown",
   "metadata": {},
   "source": [
    "![](download.jpg)"
   ]
  },
  {
   "cell_type": "markdown",
   "metadata": {},
   "source": [
    "<img src=download.jpg height=\"70%\" width=\"40%\">"
   ]
  },
  {
   "cell_type": "markdown",
   "metadata": {},
   "source": [
    "<img src=download.jpg height=\"80%\" width=\"60%\">"
   ]
  },
  {
   "cell_type": "code",
   "execution_count": null,
   "metadata": {},
   "outputs": [],
   "source": []
  }
 ],
 "metadata": {
  "kernelspec": {
   "display_name": "Python 3",
   "language": "python",
   "name": "python3"
  },
  "language_info": {
   "codemirror_mode": {
    "name": "ipython",
    "version": 3
   },
   "file_extension": ".py",
   "mimetype": "text/x-python",
   "name": "python",
   "nbconvert_exporter": "python",
   "pygments_lexer": "ipython3",
   "version": "3.7.3"
  }
 },
 "nbformat": 4,
 "nbformat_minor": 2
}
